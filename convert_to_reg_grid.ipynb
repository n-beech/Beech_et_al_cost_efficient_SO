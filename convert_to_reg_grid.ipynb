{
 "cells": [
  {
   "cell_type": "code",
   "execution_count": 4,
   "id": "ee9ea9d6-1964-4510-af96-f0805f551a21",
   "metadata": {},
   "outputs": [],
   "source": [
    "import xarray as xr\n",
    "import numpy as np\n",
    "import datetime as dt\n",
    "import pyfesom2 as pf\n",
    "import matplotlib.tri as mtri\n",
    "from joblib import Parallel, delayed\n",
    "import pickle"
   ]
  },
  {
   "cell_type": "code",
   "execution_count": 5,
   "id": "d5f5201e-5539-4e75-a745-cb0f5d988152",
   "metadata": {},
   "outputs": [
    {
     "name": "stdout",
     "output_type": "stream",
     "text": [
      "/work/ab0995/a270088/meshes/SO3/pickle_mesh_py3_fesom2\n",
      "The usepickle == True)\n",
      "The pickle file for FESOM2 exists.\n",
      "The mesh will be loaded from /work/ab0995/a270088/meshes/SO3/pickle_mesh_py3_fesom2\n"
     ]
    }
   ],
   "source": [
    "datapath='PATH/TO/DATA/'\n",
    "mesh_path='/PATH/TO/MESH/DATA/'\n",
    "mesh=pf.load_mesh(mesh_path)"
   ]
  },
  {
   "cell_type": "code",
   "execution_count": 6,
   "id": "dfcaedcc-6f15-4080-86f9-33ed9a748fd1",
   "metadata": {},
   "outputs": [],
   "source": [
    "model_lons=mesh.x2\n",
    "model_lats=mesh.y2\n",
    "\n",
    "elements=mesh.elem.astype('int32')\n",
    "\n",
    "d = model_lons[elements].max(axis=1) - model_lons[elements].min(axis=1)\n",
    "no_cyclic_elem = np.argwhere(d < 100).ravel()\n",
    "\n",
    "#regular grid for interpolation\n",
    "dx=0.25\n",
    "dy=0.25\n",
    "left,right=-179.875,180\n",
    "bottom,top=-89.875,90\n",
    "nx2=left-right\n",
    "ny2=top-bottom\n",
    "lon_eq = np.arange(left, right, dx) \n",
    "lat_eq = np.arange(bottom, top, dy)\n",
    "nx=lon_eq.shape[0]\n",
    "ny=lat_eq.shape[0]\n",
    "\n",
    "xx_eq, yy_eq = np.meshgrid(lon_eq, lat_eq)\n",
    "xx_eq=xx_eq.T;\n",
    "yy_eq=yy_eq.T;"
   ]
  },
  {
   "cell_type": "code",
   "execution_count": 7,
   "id": "0c9ec84a-25fc-4cf2-a0e5-27d0bdbf40e5",
   "metadata": {},
   "outputs": [],
   "source": [
    "triang = mtri.Triangulation(model_lons, model_lats, elements[no_cyclic_elem])\n",
    "tri = triang.get_trifinder()"
   ]
  },
  {
   "cell_type": "code",
   "execution_count": 3,
   "id": "e0c6124e-3795-42e6-b9b3-08454e6c64d8",
   "metadata": {},
   "outputs": [],
   "source": [
    "#mean for the entire period\n",
    "so3_eke15=xr.open_dataset(datapath+'eke_mean_2016-2020.nc')\n",
    "so3_eke50=xr.open_dataset(datapath+'eke_mean_1951-1955.nc')\n",
    "so3_eke90=xr.open_dataset(datapath+'eke_mean_2091-2095.nc')"
   ]
  },
  {
   "cell_type": "code",
   "execution_count": 5,
   "id": "efd6be9d-6024-487d-b3ca-5aac07d68bb3",
   "metadata": {},
   "outputs": [],
   "source": [
    "def convert_to_reg(i,var):\n",
    "    return mtri.LinearTriInterpolator(triang, data[var][i,:].data,trifinder=tri)(xx_eq, yy_eq)"
   ]
  },
  {
   "cell_type": "code",
   "execution_count": 10,
   "id": "457eeb9d-2eed-42be-a6de-2f98d7a85e01",
   "metadata": {},
   "outputs": [],
   "source": [
    "eke_reg50 = mtri.LinearTriInterpolator(triang, so3_eke50.unod[0,5,:].data,trifinder=tri)(xx_eq, yy_eq)\n",
    "eke_reg15 = mtri.LinearTriInterpolator(triang, so3_eke15.unod[0,5,:].data,trifinder=tri)(xx_eq, yy_eq)\n",
    "eke_reg90 = mtri.LinearTriInterpolator(triang, so3_eke90.unod[0,5,:].data,trifinder=tri)(xx_eq, yy_eq)"
   ]
  },
  {
   "cell_type": "code",
   "execution_count": 11,
   "id": "929ecfb4-8eeb-401d-beb4-a8f74d76ae4a",
   "metadata": {},
   "outputs": [],
   "source": [
    "eke_interp50=xr.DataArray(data=eke_reg50.reshape(1,eke_reg50.shape[0],eke_reg50.shape[1]),dims=['time','lon','lat'],name='eke',\n",
    "                        coords={'time':so3_eke50.time.values.reshape(1),'lon':lon_eq,'lat':lat_eq},\n",
    "                        attrs=dict(description='eke computed from model output velocity on the SO3 mesh and interpolated to a regular grid',\n",
    "                               units='m^2/s^2',depth='25m'))\n",
    "\n",
    "eke_ds50=eke_interp50.to_dataset(name='eke')\n",
    "eke_ds50.to_netcdf(datapath+'eke_mean_reg_25m_1951-1955.nc')"
   ]
  },
  {
   "cell_type": "code",
   "execution_count": 12,
   "id": "f753d2a7-fce2-4316-a546-7ddf1ba832c4",
   "metadata": {},
   "outputs": [],
   "source": [
    "eke_interp15=xr.DataArray(data=eke_reg15.reshape(1,eke_reg15.shape[0],eke_reg15.shape[1]),dims=['time','lon','lat'],name='eke',\n",
    "                        coords={'time':so3_eke15.time.values.reshape(1),'lon':lon_eq,'lat':lat_eq},\n",
    "                        attrs=dict(description='eke computed from model output velocity on the SO3 mesh and interpolated to a regular grid',\n",
    "                               units='m^2/s^2',depth='25m'))\n",
    "\n",
    "eke_ds15=eke_interp15.to_dataset(name='eke')\n",
    "eke_ds15.to_netcdf(datapath+'eke_mean_reg_25m_2016-2020.nc')"
   ]
  },
  {
   "cell_type": "code",
   "execution_count": 13,
   "id": "904f203c-d952-4c51-9fd0-65a12763e0d0",
   "metadata": {},
   "outputs": [],
   "source": [
    "eke_interp90=xr.DataArray(data=eke_reg90.reshape(1,eke_reg90.shape[0],eke_reg90.shape[1]),dims=['time','lon','lat'],name='eke',\n",
    "                        coords={'time':so3_eke90.time.values.reshape(1),'lon':lon_eq,'lat':lat_eq},\n",
    "                        attrs=dict(description='eke computed from model output velocity on the SO3 mesh and interpolated to a regular grid',\n",
    "                               units='m^2/s^2',\n",
    "                               depth='25m'))\n",
    "\n",
    "eke_ds90=eke_interp90.to_dataset(name='eke')\n",
    "eke_ds90.to_netcdf(datapath+'eke_mean_reg_25m_2091-2095.nc')"
   ]
  },
  {
   "cell_type": "code",
   "execution_count": 1,
   "id": "bd7e6f68-dfd6-49af-a649-2ec32fab0d72",
   "metadata": {},
   "outputs": [],
   "source": [
    "#cmip6 data"
   ]
  },
  {
   "cell_type": "code",
   "execution_count": 7,
   "id": "98a5bb46-ebc7-42de-8f97-9b938ba11689",
   "metadata": {},
   "outputs": [
    {
     "name": "stdout",
     "output_type": "stream",
     "text": [
      "/pool/data/AWICM/FESOM1/MESHES/glob/pickle_mesh_py3_fesom2\n",
      "The usepickle == True)\n",
      "The pickle file for FESOM2 exists.\n",
      "The mesh will be loaded from /pool/data/AWICM/FESOM1/MESHES/glob/pickle_mesh_py3_fesom2\n"
     ]
    }
   ],
   "source": [
    "gmesh_path='/PATH/TO/MESH/DATA/'\n",
    "gmesh=pf.load_mesh(gmesh_path)\n",
    "gmodel_lons=gmesh.x2\n",
    "gmodel_lats=gmesh.y2\n",
    "gelements=gmesh.elem.astype('int32')\n",
    "\n",
    "gd = gmodel_lons[gelements].max(axis=1) - gmodel_lons[gelements].min(axis=1)\n",
    "gno_cyclic_elem = np.argwhere(gd < 100).ravel()"
   ]
  },
  {
   "cell_type": "code",
   "execution_count": 9,
   "id": "58da19b6-1d5d-4a40-9969-2231ce930637",
   "metadata": {},
   "outputs": [],
   "source": [
    "gtriang = mtri.Triangulation(gmodel_lons, gmodel_lats, gelements[gno_cyclic_elem])\n",
    "gtri = gtriang.get_trifinder()"
   ]
  },
  {
   "cell_type": "code",
   "execution_count": null,
   "id": "c7932350-831f-4532-8be8-533a3351b4ac",
   "metadata": {},
   "outputs": [],
   "source": []
  },
  {
   "cell_type": "code",
   "execution_count": null,
   "id": "b3904ebe-4abb-4a91-9e52-5b6931519b22",
   "metadata": {},
   "outputs": [],
   "source": [
    "#ens mean\n",
    "c6_eke50=xr.open_dataset(datapath+'c6_eke_ensmean_annmean_1951-1955.nc')\n",
    "c6_eke15=xr.open_dataset(datapath+'c6_eke_ensmean_annmean_2016-2020.nc')\n",
    "c6_eke90=xr.open_dataset(datapath+'c6_eke_ensmean_annmean_2091-2095.nc')\n"
   ]
  },
  {
   "cell_type": "code",
   "execution_count": null,
   "id": "967d07b6-49e2-4fa6-9cd1-aa048690df4e",
   "metadata": {},
   "outputs": [],
   "source": [
    "geke_reg50 = mtri.LinearTriInterpolator(gtriang, c6_eke50.uo[0,:].data,trifinder=gtri)(xx_eq, yy_eq)\n",
    "geke_reg15 = mtri.LinearTriInterpolator(gtriang, c6_eke15.uo[0,:].data,trifinder=gtri)(xx_eq, yy_eq)\n",
    "geke_reg90 = mtri.LinearTriInterpolator(gtriang, c6_eke90.uo[0,:].data,trifinder=gtri)(xx_eq, yy_eq)"
   ]
  },
  {
   "cell_type": "code",
   "execution_count": null,
   "id": "46e9b758-e111-4d52-b920-d8d500a485ca",
   "metadata": {},
   "outputs": [],
   "source": [
    "geke_interp50=xr.DataArray(data=geke_reg50.reshape(1,geke_reg50.shape[0],geke_reg50.shape[1]),dims=['time','lon','lat'],name='eke',\n",
    "                        coords={'time':c6_eke50.time.values.reshape(1),'lon':lon_eq,'lat':lat_eq},\n",
    "                        attrs=dict(description='eke computed from model output velocity on the SO3 mesh and interpolated to a regular grid',\n",
    "                               units='m^2/s^2'))\n",
    "geke_ds50=geke_interp50.to_dataset(name='eke')\n",
    "geke_ds50.to_netcdf(datapath+'eke_mean_reg_1951-1955.nc')"
   ]
  },
  {
   "cell_type": "code",
   "execution_count": null,
   "id": "ec597121-6cf9-4eee-b5f5-a815e9fd3fe5",
   "metadata": {},
   "outputs": [],
   "source": [
    "geke_interp15=xr.DataArray(data=geke_reg15.reshape(1,geke_reg15.shape[0],geke_reg15.shape[1]),dims=['time','lon','lat'],name='eke',\n",
    "                        coords={'time':c6_eke15.time.values.reshape(1),'lon':lon_eq,'lat':lat_eq},\n",
    "                        attrs=dict(description='eke computed from model output velocity on the SO3 mesh and interpolated to a regular grid',\n",
    "                               units='m^2/s^2'))\n",
    "geke_ds15=geke_interp15.to_dataset(name='eke')\n",
    "geke_ds15.to_netcdf(datapath+'eke_mean_reg_2016-2020.nc')"
   ]
  },
  {
   "cell_type": "code",
   "execution_count": null,
   "id": "08cc7975-3b55-4fdd-b590-c7e636cb95f7",
   "metadata": {},
   "outputs": [],
   "source": [
    "geke_interp90=xr.DataArray(data=geke_reg90.reshape(1,geke_reg90.shape[0],geke_reg90.shape[1]),dims=['time','lon','lat'],name='eke',\n",
    "                        coords={'time':c6_eke90.time.values.reshape(1),'lon':lon_eq,'lat':lat_eq},\n",
    "                        attrs=dict(description='eke computed from model output velocity on the SO3 mesh and interpolated to a regular grid',\n",
    "                               units='m^2/s^2'))\n",
    "geke_ds90=geke_interp90.to_dataset(name='eke')\n",
    "geke_ds90.to_netcdf(datapath+'eke_mean_reg_2091-2095.nc')"
   ]
  },
  {
   "cell_type": "code",
   "execution_count": null,
   "id": "0cf1f321-df43-420b-878f-aa8d09048298",
   "metadata": {},
   "outputs": [],
   "source": [
    "#ens members annual"
   ]
  },
  {
   "cell_type": "code",
   "execution_count": null,
   "id": "9a9db7dc-3f30-4512-9aa1-ade545179130",
   "metadata": {},
   "outputs": [],
   "source": [
    "for run in [1,2,3,4,5]:\n",
    "    for time in ['1951-1955','2016-2020','2091-2095']:\n",
    "        data=xr.open_dataset(datapath+'c6_eke_r'+str(run)+'_annmean_'+time+'.nc')\n",
    "\n",
    "        geke_reg = mtri.LinearTriInterpolator(gtriang, data.uo[0,:].data,trifinder=gtri)(xx_eq, yy_eq)\n",
    "\n",
    "        geke_interp=xr.DataArray(data=geke_reg.reshape(1,geke_reg.shape[0],geke_reg.shape[1]),dims=['time','lon','lat'],name='eke',\n",
    "                        coords={'time':data.time.values.reshape(1),'lon':lon_eq,'lat':lat_eq},\n",
    "                        attrs=dict(description='eke computed from model output velocity on the SO3 mesh and interpolated to a regular grid',\n",
    "                               units='m^2/s^2'\n",
    "                                  ))\n",
    "        geke_ds=geke_interp.to_dataset(name='eke')\n",
    "        geke_ds.to_netcdf(datapath+'eke_mean_reg_r'+str(run)+'_'+time+'.nc')"
   ]
  },
  {
   "cell_type": "code",
   "execution_count": null,
   "id": "d049e52d-ce34-42aa-b927-3880a770f7aa",
   "metadata": {},
   "outputs": [],
   "source": []
  },
  {
   "cell_type": "code",
   "execution_count": null,
   "id": "7495eda8-5765-408c-9db0-5d93f1e64d14",
   "metadata": {},
   "outputs": [],
   "source": []
  },
  {
   "cell_type": "code",
   "execution_count": null,
   "id": "c76b7789-ef90-43e9-84e0-8ccd314c11b7",
   "metadata": {},
   "outputs": [],
   "source": []
  }
 ],
 "metadata": {
  "kernelspec": {
   "display_name": "Python 3 (based on the module python3/2022.01)",
   "language": "python",
   "name": "python3_2022_01"
  },
  "language_info": {
   "codemirror_mode": {
    "name": "ipython",
    "version": 3
   },
   "file_extension": ".py",
   "mimetype": "text/x-python",
   "name": "python",
   "nbconvert_exporter": "python",
   "pygments_lexer": "ipython3",
   "version": "3.9.9"
  }
 },
 "nbformat": 4,
 "nbformat_minor": 5
}
