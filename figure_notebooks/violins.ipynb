{
 "cells": [
  {
   "cell_type": "code",
   "execution_count": null,
   "id": "7772266b-7c49-43ad-b5bb-16180ba973c5",
   "metadata": {},
   "outputs": [],
   "source": [
    "import xarray as xr\n",
    "import numpy as np\n",
    "from matplotlib import pyplot as plt\n",
    "import matplotlib as mpl\n",
    "import seaborn as sns\n",
    "from matplotlib.patches import Patch\n",
    "import scipy\n",
    "from cmocean import cm as cmo"
   ]
  },
  {
   "cell_type": "code",
   "execution_count": null,
   "id": "fd7fd3c1-e0b4-40f7-be22-142a596771b0",
   "metadata": {
    "tags": []
   },
   "outputs": [],
   "source": [
    "datapath='/PATH/TO/DATA/'\n",
    "savepath='/PATH/TO/OUTPUT/'"
   ]
  },
  {
   "cell_type": "code",
   "execution_count": null,
   "id": "6cd51d80-1f2d-4af3-b0dc-5fa8ae64055e",
   "metadata": {},
   "outputs": [],
   "source": [
    "#obs\n",
    "obs5d=xr.open_dataset(datapath+'obs_eke_5day_nol_2016-2020.nc')"
   ]
  },
  {
   "cell_type": "code",
   "execution_count": null,
   "id": "a851174b-fa74-4ba0-9ef0-745e3b80d305",
   "metadata": {},
   "outputs": [],
   "source": [
    "#cmip ensemble members 5day means\n",
    "c50s5=[]\n",
    "c15s5=[]\n",
    "c90s5=[]\n",
    "for run in [1,2,3,4,5]:\n",
    "    c50s5.append(xr.open_dataset(datapath+'c6_eke_5d_nol_r'+str(run)+'_reg_1951-1955.nc'))\n",
    "    c15s5.append(xr.open_dataset(datapath+'c6_eke_5d_nol_r'+str(run)+'_reg_2016-2020.nc'))\n",
    "    c90s5.append(xr.open_dataset(datapath+'c6_eke_5d_nol_r'+str(run)+'_reg_2091-2095.nc'))"
   ]
  },
  {
   "cell_type": "code",
   "execution_count": null,
   "id": "1d0d63ef-95e5-4678-a68e-4873982f7be4",
   "metadata": {},
   "outputs": [],
   "source": [
    "#so3 5day means\n",
    "f50=[]\n",
    "f15=[]\n",
    "f90=[]\n",
    "for i in np.arange(5):\n",
    "    f50.append(datapath+'eke_5d_nol_reg_'+str(1951+i)+'.nc')\n",
    "    f15.append(datapath+'eke_5d_nol_reg_'+str(2016+i)+'.nc')\n",
    "    f90.append(datapath+'eke_5d_nol_reg_'+str(2091+i)+'.nc')\n",
    "\n",
    "seke5_ds50=xr.open_mfdataset(f50)\n",
    "seke5_ds15=xr.open_mfdataset(f15)\n",
    "seke5_ds90=xr.open_mfdataset(f90)"
   ]
  },
  {
   "cell_type": "code",
   "execution_count": null,
   "id": "70d7c561-8e9a-4c8e-99a2-8e1582b51921",
   "metadata": {},
   "outputs": [],
   "source": [
    "#area mask\n",
    "accu_mask=np.ones(shape=(1440,720))\n",
    "accu_mask[:,25*4:45*4]=0\n",
    "accu_mask[123*4:151*4,int(40*4):]=1"
   ]
  },
  {
   "cell_type": "code",
   "execution_count": null,
   "id": "1088add2-f899-4408-8a25-39905481bd63",
   "metadata": {},
   "outputs": [],
   "source": [
    "# area_at_eq\n",
    "lat_eq=110574/4\n",
    "lon_eq=111320/4"
   ]
  },
  {
   "cell_type": "code",
   "execution_count": null,
   "id": "c5146967-d0ef-4c8f-8ffa-6637319cf290",
   "metadata": {},
   "outputs": [],
   "source": [
    "cosweights=np.cos(np.radians(obs5d.latitude)).values\n",
    "cos_lon_d=cosweights*lon_eq\n",
    "areas=cos_lon_d*lat_eq"
   ]
  },
  {
   "cell_type": "code",
   "execution_count": null,
   "id": "1fc2a6ec-11fe-411d-9925-ddceb6fcdf99",
   "metadata": {},
   "outputs": [],
   "source": [
    "#weight data \n",
    "\n",
    "so3_5w50=seke5_ds50.eke.values*areas\n",
    "so3_5w15=seke5_ds15.eke.values*areas\n",
    "so3_5w90=seke5_ds90.eke.values*areas\n",
    "\n",
    "obs5_w=obs5d.ugos*areas.reshape(1,720,1)\n",
    "\n",
    "c50s5mw=[]\n",
    "c15s5mw=[]\n",
    "c90s5mw=[]\n",
    "for i in np.arange(5):\n",
    "    c50s5mw.append(c50s5[i].eke.values*areas)\n",
    "    c15s5mw.append(c15s5[i].eke.values*areas)\n",
    "    c90s5mw.append(c90s5[i].eke.values*areas)"
   ]
  },
  {
   "cell_type": "code",
   "execution_count": null,
   "id": "4288b1db-792b-41cf-9003-42dcaa0a7b52",
   "metadata": {},
   "outputs": [],
   "source": [
    "#calculate area integrated eke\n",
    "\n",
    "s5accu50=np.nansum(so3_5w50[:,accu_mask==0],axis=1)\n",
    "s5accu15=np.nansum(so3_5w15[:,accu_mask==0],axis=1)\n",
    "s5accu90=np.nansum(so3_5w90[:,accu_mask==0],axis=1)\n",
    "\n",
    "oaccu5=np.nansum(obs5_w.values[:,accu_mask.T==0],axis=1)\n",
    "    \n",
    "c50s5_accu=[]\n",
    "c15s5_accu=[]\n",
    "c90s5_accu=[]\n",
    "for i in np.arange(5):\n",
    "    c50s5_accu.append(np.nansum(c50s5mw[i][:,accu_mask==0],axis=1))\n",
    "    c15s5_accu.append(np.nansum(c15s5mw[i][:,accu_mask==0],axis=1))\n",
    "    c90s5_accu.append(np.nansum(c90s5mw[i][:,accu_mask==0],axis=1))"
   ]
  },
  {
   "cell_type": "code",
   "execution_count": null,
   "id": "993b2742-0ba8-41ec-b97e-a4fb6d3c943e",
   "metadata": {},
   "outputs": [],
   "source": [
    "#detrend"
   ]
  },
  {
   "cell_type": "code",
   "execution_count": null,
   "id": "854f2a13-daf4-410b-a5d2-7775e0fb138f",
   "metadata": {},
   "outputs": [],
   "source": [
    "s5accu50dt=scipy.signal.detrend(s5accu50)+np.mean(s5accu50)\n",
    "s5accu15dt=scipy.signal.detrend(s5accu15)+np.mean(s5accu15)\n",
    "s5accu90dt=scipy.signal.detrend(s5accu90)+np.mean(s5accu90)\n",
    "\n",
    "oaccu5dt=scipy.signal.detrend(oaccu5)+np.mean(oaccu5)\n",
    "\n",
    "for i in np.arange(5):\n",
    "    c50s5_accu=scipy.signal.detrend(c50s5_accu)+np.mean(c50s5_accu)\n",
    "    c15s5_accu=scipy.signal.detrend(c15s5_accu)+np.mean(c15s5_accu)\n",
    "    c90s5_accu=scipy.signal.detrend(c90s5_accu)+np.mean(c90s5_accu)"
   ]
  },
  {
   "cell_type": "code",
   "execution_count": null,
   "id": "efc139fa-f346-4557-9910-b0c5547a5e2b",
   "metadata": {},
   "outputs": [],
   "source": [
    "# manipulate values - anoms, normalization"
   ]
  },
  {
   "cell_type": "code",
   "execution_count": null,
   "id": "df1289ac-84d4-4152-a8e5-3bfbea32acb4",
   "metadata": {},
   "outputs": [],
   "source": [
    "cm50ens=np.hstack(c50s5_accu)\n",
    "cm15ens=np.hstack(c15s5_accu)\n",
    "cm90ens=np.hstack(c90s5_accu)"
   ]
  },
  {
   "cell_type": "code",
   "execution_count": null,
   "id": "db49bb01-27fe-43f8-9189-acd1c3831d56",
   "metadata": {},
   "outputs": [],
   "source": [
    "#normalization\n",
    "\n",
    "#cmip ensemble\n",
    "cm50enorm=(cm50ens-np.mean(cm15ens))/np.std(cm15ens)\n",
    "cm15enorm=(cm15ens-np.mean(cm15ens))/np.std(cm15ens)\n",
    "cm90enorm=(cm90ens-np.mean(cm15ens))/np.std(cm15ens)\n",
    "\n",
    "#cmip r1\n",
    "cm50r1norm=(c50s5_accu[0]-np.mean(c15s5_accu[0]))/np.std(c15s5_accu[0])\n",
    "cm15r1norm=(c15s5_accu[0]-np.mean(c15s5_accu[0]))/np.std(c15s5_accu[0])\n",
    "cm90r1norm=(c90s5_accu[0]-np.mean(c15s5_accu[0]))/np.std(c15s5_accu[0])\n",
    "\n",
    "#so3\n",
    "s50norm=(s5accu50-np.mean(s5accu15))/np.std(s5accu15)\n",
    "s15norm=(s5accu15-np.mean(s5accu15))/np.std(s5accu15)\n",
    "s90norm=(s5accu90-np.mean(s5accu15))/np.std(s5accu15)\n",
    "\n",
    "# Cmip members\n",
    "cm50snorm=[]\n",
    "cm15snorm=[]\n",
    "cm90snorm=[]\n",
    "for i in np.arange(5):\n",
    "    cm50snorm.append((c50s5_accu[i]-np.mean(c50s5_accu[0]))/np.std(c50s5_accu[0]))\n",
    "    cm15snorm.append((c15s5_accu[i]-np.mean(c15s5_accu[0]))/np.std(c15s5_accu[0]))\n",
    "    cm90snorm.append((c90s5_accu[i]-np.mean(c90s5_accu[0]))/np.std(c90s5_accu[0]))\n",
    "\n",
    "#obs\n",
    "onorm=(oaccu5-np.mean(oaccu5))/np.std(oaccu5)"
   ]
  },
  {
   "cell_type": "code",
   "execution_count": null,
   "id": "ce1d1f7f-5a30-4052-90b0-bd4bc7ce5639",
   "metadata": {},
   "outputs": [],
   "source": [
    "#anomalies\n",
    "#cmip ens\n",
    "cm50eanom=(cm50ens-np.mean(cm15ens))\n",
    "cm15eanom=(cm15ens-np.mean(cm15ens))\n",
    "cm90eanom=(cm90ens-np.mean(cm15ens))\n",
    "\n",
    "#cmip r1\n",
    "cm50r1anom=(c50s5_accu[0]-np.mean(c15s5_accu[0]))\n",
    "cm15r1anom=(c15s5_accu[0]-np.mean(c15s5_accu[0]))\n",
    "cm90r1anom=(c90s5_accu[0]-np.mean(c15s5_accu[0]))\n",
    "\n",
    "#so3\n",
    "s50anom=(s5accu50-np.mean(s5accu15))\n",
    "s15anom=(s5accu15-np.mean(s5accu15))\n",
    "s90anom=(s5accu90-np.mean(s5accu15))\n",
    "\n",
    "#obs\n",
    "oanom=(oaccu5-np.mean(oaccu5))"
   ]
  },
  {
   "cell_type": "code",
   "execution_count": null,
   "id": "131079b9-2cfb-4e78-ab0d-75aba8f1fcef",
   "metadata": {},
   "outputs": [],
   "source": [
    "cads=np.asarray([np.hstack(c50s5_accu),np.hstack(c15s5_accu),np.hstack(c90s5_accu)])\n",
    "labels=['a','b','c','d','e','f','g','h','i']"
   ]
  },
  {
   "cell_type": "code",
   "execution_count": null,
   "id": "2700c0d8-3dd1-49db-a492-b018b9fe6c4a",
   "metadata": {},
   "outputs": [],
   "source": [
    "#Figure 1"
   ]
  },
  {
   "cell_type": "code",
   "execution_count": null,
   "id": "05cc7ec3-3074-4215-bfbe-f6c9bd511683",
   "metadata": {},
   "outputs": [],
   "source": [
    "fig,ax=plt.subplots(3,3,figsize=(13,13),dpi=300,constrained_layout=True)\n",
    "\n",
    "font = {'size'   : 12}\n",
    "mpl.rc('font', **font)\n",
    "\n",
    "#row1\n",
    "v00=sns.violinplot(data=np.asarray([np.hstack(c50s5_accudt),np.hstack(c15s5_accudt),np.hstack(c90s5_accudt)]).T,\n",
    "                   orient='v',showmeans=True,ax=ax[0,0],color=cmo.dense(20))\n",
    "v01=sns.violinplot(data=np.asarray([np.hstack(c50s5_accudt[0]),np.hstack(c15s5_accudt[0]),np.hstack(c90s5_accudt[0])]).T,\n",
    "                   orient='v',showmeans=True,ax=ax[0,1],color=cmo.dense(110))\n",
    "v02=sns.violinplot(data=np.asarray([s5accu50dt,s5accu15dt,s5accu90dt]).T,\n",
    "                   orient='v',showmeans=True,ax=ax[0,2],color=cmo.dense(190))\n",
    "v02b=sns.violinplot(data=np.asarray([None,oaccu5dt,None]).T,\n",
    "                   orient='v',showmeans=True,ax=ax[0,2],color=cmo.dense(240))\n",
    "\n",
    "#row2\n",
    "v10=sns.violinplot(data=np.asarray([cm50eanom,cm50r1anom,s50anom,]).T,orient='v'\n",
    "                       ,showmeans=True,ax=ax[1,0])\n",
    "v11=sns.violinplot(data=np.asarray([cm15eanom,cm15r1anom,s15anom,oanom]).T,orient='v'\n",
    "                       ,showmeans=True,ax=ax[1,1])\n",
    "v12=sns.violinplot(data=np.asarray([cm90eanom,cm90r1anom,s90anom,]).T,orient='v'\n",
    "                       ,showmeans=True,ax=ax[1,2])\n",
    "\n",
    "#row3\n",
    "v20=sns.violinplot(data=np.asarray([cm50enorm,cm50r1norm,s50norm,]).T,orient='v'\n",
    "                       ,showmeans=True,ax=ax[2,0])\n",
    "v21=sns.violinplot(data=np.asarray([cm15enorm,cm15r1norm,s15norm,onorm]).T,orient='v'\n",
    "                       ,showmeans=True,ax=ax[2,1])\n",
    "v22=sns.violinplot(data=np.asarray([cm90enorm,cm90r1norm,s90norm,]).T,orient='v'\n",
    "                       ,showmeans=True,ax=ax[2,2])\n",
    "\n",
    "for violin, cs in zip(v00.collections[::2], [cmo.dense(20),cmo.dense(20),cmo.dense(20)]):\n",
    "    violin.set_facecolor(cs)\n",
    "for violin, cs in zip(v01.collections[::2], [cmo.dense(110),cmo.dense(110),cmo.dense(110)]):\n",
    "    violin.set_facecolor(cs)\n",
    "for violin, cs in zip(v10.collections[::2], [cmo.dense(20),cmo.dense(110),cmo.dense(190)]):\n",
    "    violin.set_facecolor(cs)\n",
    "for violin, cs in zip(v11.collections[::2], [cmo.dense(20),cmo.dense(110),cmo.dense(190),cmo.dense(240)]):\n",
    "    violin.set_facecolor(cs)\n",
    "for violin, cs in zip(v12.collections[::2], [cmo.dense(20),cmo.dense(110),cmo.dense(190)]):\n",
    "    violin.set_facecolor(cs)\n",
    "for violin, cs in zip(v20.collections[::2], [cmo.dense(20),cmo.dense(110),cmo.dense(190)]):\n",
    "    violin.set_facecolor(cs)\n",
    "for violin, cs in zip(v21.collections[::2], [cmo.dense(20),cmo.dense(110),cmo.dense(190),cmo.dense(240)]):\n",
    "    violin.set_facecolor(cs)\n",
    "for violin, cs in zip(v22.collections[::2], [cmo.dense(20),cmo.dense(110),cmo.dense(190)]):\n",
    "    violin.set_facecolor(cs)\n",
    "for axis in [v00,v01,v02,v10,v11,v12,v20,v21,v22]:\n",
    "    plt.setp(axis.collections, alpha=0.6)\n",
    "\n",
    "labels=['a','b','c','d','e','f','g','h','i']\n",
    "for i,axis in enumerate(ax.flatten()):\n",
    "    axis.annotate(labels[i], xy=(0.05, 0.92),xycoords='axes fraction',horizontalalignment='right', \n",
    "                     verticalalignment='bottom',weight='bold',fontsize=16)\n",
    "    \n",
    "yearlab=['1951-1955','2016-2020','2091-2095']\n",
    "simlab=['AWI-CM-1\\nensemble','AWI-CM-1\\nr1i1p1f1','SO3 and Observations']\n",
    "\n",
    "for i in np.arange(3):\n",
    "    ax[1,i].set_ylim(-1.1*10**11,3.2*10**11)\n",
    "    ax[2,i].set_ylim(-4.7,9)\n",
    "    ax[0,i].grid(axis='y',alpha=0.4)\n",
    "    ax[1,i].grid(axis='y',alpha=0.4)\n",
    "    ax[2,i].grid(axis='y',alpha=0.4)\n",
    "    ax[0,i].set_xticks([0,1,2],labels=['1951-1955','2016-2020','2091-2095'])\n",
    "    ax[2,i].set_title(yearlab[i],fontsize=16)\n",
    "    ax[1,i].set_title(yearlab[i],fontsize=16)\n",
    "    ax[0,i].set_title(simlab[i],fontsize=16)\n",
    "\n",
    "ax[0,2].set_xticks([0,1,2],labels=['1951-1955','2016-2020','2091-2095'])\n",
    "ax[2,1].set_xticks([0,1,2,3],labels=['AWI-CM-1\\nensemble','AWI-CM-1\\nr1i1p1f1','SO3','Observations'])\n",
    "ax[2,0].set_xticks([0,1,2],labels=['AWI-CM-1\\nensemble','AWI-CM-1\\nr1i1p1f1','SO3'])\n",
    "ax[2,2].set_xticks([0,1,2],labels=['AWI-CM-1\\nensemble','AWI-CM-1\\nr1i1p1f1','SO3'])\n",
    "ax[1,1].set_xticks([0,1,2,3],labels=['AWI-CM-1\\nensemble','AWI-CM-1\\nr1i1p1f1','SO3','Observations'])\n",
    "ax[1,0].set_xticks([0,1,2],labels=['AWI-CM-1\\nensemble','AWI-CM-1\\nr1i1p1f1','SO3'])\n",
    "ax[1,2].set_xticks([0,1,2],labels=['AWI-CM-1\\nensemble','AWI-CM-1\\nr1i1p1f1','SO3'])\n",
    "ax[2,0].set_xticks([0,1,2],labels=['AWI-CM-1\\nensemble','AWI-CM-1\\nr1i1p1f1','SO3'])\n",
    "\n",
    "ax[0,0].set_ylabel('EKE ($\\mathregular{m^4}$/$\\mathregular{s^2}$)',fontsize=17)\n",
    "ax[1,0].set_ylabel('EKE\\n(Anomaly of 2016-2020 mean)',fontsize=17)\n",
    "ax[2,0].set_ylabel('EKE\\n(std from 2016-2020 mean)',fontsize=17)\n",
    "ax[0,1].set_xlabel('Period',fontsize=17)\n",
    "ax[2,1].set_xlabel('Data',fontsize=17)\n",
    "\n",
    "ax[0,0].set_ylim(1.9*10**11,4.5*10**11)\n",
    "ax[0,1].set_ylim(1.9*10**11,4.5*10**11)\n",
    "\n",
    "plt.savefig(savepath+'figure_1.png',bbox_inches='tight')"
   ]
  },
  {
   "cell_type": "code",
   "execution_count": null,
   "id": "7c44ebb3-dfb8-4fed-8a1f-a4238745498a",
   "metadata": {},
   "outputs": [],
   "source": [
    "#Figure 2"
   ]
  },
  {
   "cell_type": "code",
   "execution_count": null,
   "id": "e1dff7ff-4862-4c78-94f0-7cca9ef8298a",
   "metadata": {},
   "outputs": [],
   "source": [
    "fig,ax=plt.subplots(1,2,figsize=(9,4),dpi=300,constrained_layout=True,gridspec_kw={'width_ratios': [1, 5]},\n",
    "                    sharey=True,sharex='col',squeeze=False)\n",
    "font = {'size'   : 12}\n",
    "mpl.rc('font', **font)\n",
    "\n",
    "for i in ax.flatten():\n",
    "    i.grid(axis='y',alpha=0.4)\n",
    "    \n",
    "v00=sns.violinplot(data=np.asarray([np.hstack(c50s5_accudt)]).T,\n",
    "                   orient='v',showmeans=True,ax=ax[0,0],color=cmo.dense(20))\n",
    "v01=sns.violinplot(data=np.asarray(c50s5_accudt).T,\n",
    "                   orient='v',showmeans=True,ax=ax[0,1],color=cmo.dense(20))\n",
    "v10=sns.violinplot(data=np.asarray([np.hstack(c15s5_accudt)]).T,\n",
    "                   orient='v',showmeans=True,ax=ax[0,0],color=cmo.dense(110))\n",
    "v11=sns.violinplot(data=np.asarray(c15s5_accudt).T,\n",
    "                   orient='v',showmeans=True,ax=ax[0,1],color=cmo.dense(110))\n",
    "v20=sns.violinplot(data=np.asarray([np.hstack(c90s5_accudt)]).T,\n",
    "                   orient='v',showmeans=True,ax=ax[0,0],color=cmo.dense(190))\n",
    "v21=sns.violinplot(data=np.asarray(c90s5_accudt).T,\n",
    "                   orient='v',showmeans=True,ax=ax[0,1],color=cmo.dense(190))\n",
    "plt.setp(ax[0,0].collections, alpha=0.6)\n",
    "plt.setp(ax[0,1].collections, alpha=0.6)\n",
    "\n",
    "ax[0,0].set_xticks([0],labels=['\\nEnsemble'])\n",
    "ax[0,1].set_xticks([0,1,2,3,4],labels=['1','2','3','4','5'])\n",
    "ax[0,1].set_xlabel('Ensemble members')\n",
    "ax[0,0].set_ylabel('EKE ($\\mathregular{m^4}$/$\\mathregular{s^2}$)')\n",
    "\n",
    "ax[0,0].annotate('a', xy=(0.05, 0.9),xycoords='axes fraction',horizontalalignment='left', \n",
    "                     verticalalignment='bottom',fontsize=16,weight='bold')\n",
    "ax[0,1].annotate('b', xy=(0.01, 0.9),xycoords='axes fraction',horizontalalignment='left', \n",
    "                     verticalalignment='bottom',fontsize=16,weight='bold')\n",
    "\n",
    "legend_elements = [Patch(facecolor=cmo.dense(20),edgecolor='k', alpha=0.4,label='1951-1955'),\n",
    "                  Patch(facecolor=cmo.dense(110),edgecolor='k', alpha=0.4,label='2016-2020'),\n",
    "                  Patch(facecolor=cmo.dense(190),edgecolor='k', alpha=0.4,label='2091-2095')]\n",
    "plt.legend(handles=legend_elements,ncol=3,framealpha=0.4,loc='upper right')\n",
    "\n",
    "plt.savefig(savepath+'figure_2.png',bbox_inches='tight')"
   ]
  },
  {
   "cell_type": "code",
   "execution_count": null,
   "id": "b3bfe5ef-582d-4ebe-93aa-4f4b33cd2fdd",
   "metadata": {},
   "outputs": [],
   "source": []
  }
 ],
 "metadata": {
  "kernelspec": {
   "display_name": "Python 3 (based on the module python3/2022.01)",
   "language": "python",
   "name": "python3_2022_01"
  },
  "language_info": {
   "codemirror_mode": {
    "name": "ipython",
    "version": 3
   },
   "file_extension": ".py",
   "mimetype": "text/x-python",
   "name": "python",
   "nbconvert_exporter": "python",
   "pygments_lexer": "ipython3",
   "version": "3.9.9"
  }
 },
 "nbformat": 4,
 "nbformat_minor": 5
}
